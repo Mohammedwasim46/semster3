{
 "cells": [
  {
   "cell_type": "code",
   "execution_count": 28,
   "id": "de957071",
   "metadata": {},
   "outputs": [],
   "source": [
    "data=[56,27,85,35,28]"
   ]
  },
  {
   "cell_type": "code",
   "execution_count": 29,
   "id": "2a77f891",
   "metadata": {},
   "outputs": [],
   "source": [
    "data.sort()"
   ]
  },
  {
   "cell_type": "code",
   "execution_count": 30,
   "id": "d71e0c89",
   "metadata": {},
   "outputs": [
    {
     "name": "stdout",
     "output_type": "stream",
     "text": [
      "[27, 28, 35, 56, 85]\n"
     ]
    }
   ],
   "source": [
    "print(data)"
   ]
  },
  {
   "cell_type": "code",
   "execution_count": 31,
   "id": "e0fc43bc",
   "metadata": {},
   "outputs": [
    {
     "name": "stdout",
     "output_type": "stream",
     "text": [
      "enter the search element:35\n"
     ]
    }
   ],
   "source": [
    "elem=int(input(\"enter the search element:\"))"
   ]
  },
  {
   "cell_type": "code",
   "execution_count": 32,
   "id": "825149a5",
   "metadata": {},
   "outputs": [],
   "source": [
    "def binary_search(data,elem):\n",
    "    low=0\n",
    "    high=len(data)-1\n",
    "     \n",
    "    while low <=high:\n",
    "        middle=(low +high)//2\n",
    "        \n",
    "        if data[middle]==elem:\n",
    "            print(f\"the searching element {elem} is present at index value {middle} in dataset\")\n",
    "            break\n",
    "        elif  data[middle] >elem:\n",
    "                high =middle -1\n",
    "        else:\n",
    "            low =middle +1\n",
    "        if data[middle]==elem:\n",
    "            print(f\"the searching element {elem} is not present in the dataset\")\n",
    "            return \n",
    "    \n",
    "        "
   ]
  },
  {
   "cell_type": "code",
   "execution_count": 33,
   "id": "5af590eb",
   "metadata": {},
   "outputs": [
    {
     "name": "stdout",
     "output_type": "stream",
     "text": [
      "the searching element 35 is present at index value 2 in dataset\n"
     ]
    }
   ],
   "source": [
    "binary_search(data,elem)"
   ]
  },
  {
   "cell_type": "markdown",
   "id": "bc0a04b9",
   "metadata": {},
   "source": [
    "# BUBBLE SORT ALGORITHM 1"
   ]
  },
  {
   "cell_type": "code",
   "execution_count": 48,
   "id": "e25e4f60",
   "metadata": {},
   "outputs": [],
   "source": [
    "data=[10,20,12,4,-2,-54,-11-40,90]"
   ]
  },
  {
   "cell_type": "code",
   "execution_count": 49,
   "id": "58b0d76c",
   "metadata": {},
   "outputs": [
    {
     "data": {
      "text/plain": [
       "[10, 20, 12, 4, -2, -54, -51, 90]"
      ]
     },
     "execution_count": 49,
     "metadata": {},
     "output_type": "execute_result"
    }
   ],
   "source": [
    "data"
   ]
  },
  {
   "cell_type": "code",
   "execution_count": 50,
   "id": "ab1d70c0",
   "metadata": {},
   "outputs": [
    {
     "data": {
      "text/plain": [
       "8"
      ]
     },
     "execution_count": 50,
     "metadata": {},
     "output_type": "execute_result"
    }
   ],
   "source": [
    "len(data)"
   ]
  },
  {
   "cell_type": "code",
   "execution_count": 51,
   "id": "d7ba66ec",
   "metadata": {},
   "outputs": [],
   "source": [
    "def bubble_sort(data):\n",
    "    for i in range(len(data)-i):\n",
    "        for j in range(0,len (data)-i-1): #loop for comparing\n",
    "            if data[j]>data[j+1]:\n",
    "                k=data[j]\n",
    "                data[j]=data[j+1]\n",
    "                data[j+1]=k"
   ]
  },
  {
   "cell_type": "code",
   "execution_count": 52,
   "id": "af219f27",
   "metadata": {},
   "outputs": [
    {
     "ename": "UnboundLocalError",
     "evalue": "local variable 'i' referenced before assignment",
     "output_type": "error",
     "traceback": [
      "\u001b[1;31m---------------------------------------------------------------------------\u001b[0m",
      "\u001b[1;31mUnboundLocalError\u001b[0m                         Traceback (most recent call last)",
      "Cell \u001b[1;32mIn[52], line 1\u001b[0m\n\u001b[1;32m----> 1\u001b[0m \u001b[43mbubble_sort\u001b[49m\u001b[43m(\u001b[49m\u001b[43mdata\u001b[49m\u001b[43m)\u001b[49m\n",
      "Cell \u001b[1;32mIn[51], line 2\u001b[0m, in \u001b[0;36mbubble_sort\u001b[1;34m(data)\u001b[0m\n\u001b[0;32m      1\u001b[0m \u001b[38;5;28;01mdef\u001b[39;00m \u001b[38;5;21mbubble_sort\u001b[39m(data):\n\u001b[1;32m----> 2\u001b[0m     \u001b[38;5;28;01mfor\u001b[39;00m i \u001b[38;5;129;01min\u001b[39;00m \u001b[38;5;28mrange\u001b[39m(\u001b[38;5;28mlen\u001b[39m(data)\u001b[38;5;241m-\u001b[39m\u001b[43mi\u001b[49m):\n\u001b[0;32m      3\u001b[0m         \u001b[38;5;28;01mfor\u001b[39;00m j \u001b[38;5;129;01min\u001b[39;00m \u001b[38;5;28mrange\u001b[39m(\u001b[38;5;241m0\u001b[39m,\u001b[38;5;28mlen\u001b[39m (data)\u001b[38;5;241m-\u001b[39mi\u001b[38;5;241m-\u001b[39m\u001b[38;5;241m1\u001b[39m): \u001b[38;5;66;03m#loop for comparing\u001b[39;00m\n\u001b[0;32m      4\u001b[0m             \u001b[38;5;28;01mif\u001b[39;00m data[j]\u001b[38;5;241m>\u001b[39mdata[j\u001b[38;5;241m+\u001b[39m\u001b[38;5;241m1\u001b[39m]:\n",
      "\u001b[1;31mUnboundLocalError\u001b[0m: local variable 'i' referenced before assignment"
     ]
    }
   ],
   "source": [
    "bubble_sort(data)"
   ]
  },
  {
   "cell_type": "code",
   "execution_count": null,
   "id": "755e9cbc",
   "metadata": {},
   "outputs": [],
   "source": []
  }
 ],
 "metadata": {
  "kernelspec": {
   "display_name": "Python 3 (ipykernel)",
   "language": "python",
   "name": "python3"
  },
  "language_info": {
   "codemirror_mode": {
    "name": "ipython",
    "version": 3
   },
   "file_extension": ".py",
   "mimetype": "text/x-python",
   "name": "python",
   "nbconvert_exporter": "python",
   "pygments_lexer": "ipython3",
   "version": "3.10.12"
  }
 },
 "nbformat": 4,
 "nbformat_minor": 5
}
