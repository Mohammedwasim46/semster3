{
 "cells": [
  {
   "cell_type": "code",
   "execution_count": 2,
   "id": "ff691c85",
   "metadata": {},
   "outputs": [],
   "source": [
    "A=60"
   ]
  },
  {
   "cell_type": "code",
   "execution_count": 3,
   "id": "437fb330",
   "metadata": {},
   "outputs": [],
   "source": [
    "B=40"
   ]
  },
  {
   "cell_type": "code",
   "execution_count": 6,
   "id": "43f8e8f7",
   "metadata": {},
   "outputs": [],
   "source": [
    "C=a+b"
   ]
  },
  {
   "cell_type": "code",
   "execution_count": 7,
   "id": "52af7fca",
   "metadata": {},
   "outputs": [
    {
     "data": {
      "text/plain": [
       "100"
      ]
     },
     "execution_count": 7,
     "metadata": {},
     "output_type": "execute_result"
    }
   ],
   "source": [
    "c"
   ]
  },
  {
   "cell_type": "code",
   "execution_count": 8,
   "id": "ef98e830",
   "metadata": {},
   "outputs": [],
   "source": [
    "_A=8"
   ]
  },
  {
   "cell_type": "code",
   "execution_count": 9,
   "id": "f05f9b22",
   "metadata": {},
   "outputs": [],
   "source": [
    "A_=9"
   ]
  },
  {
   "cell_type": "code",
   "execution_count": 19,
   "id": "7f06f41d",
   "metadata": {
    "scrolled": true
   },
   "outputs": [
    {
     "name": "stdout",
     "output_type": "stream",
     "text": [
      "Requirement already satisfied: numpy in c:\\users\\pmu2022\\.conda\\envs\\machinelearning\\lib\\site-packages (1.25.2)\n",
      "Note: you may need to restart the kernel to use updated packages.\n"
     ]
    }
   ],
   "source": [
    "pip install numpy"
   ]
  },
  {
   "cell_type": "code",
   "execution_count": 20,
   "id": "ca97f6cf",
   "metadata": {},
   "outputs": [
    {
     "ename": "NameError",
     "evalue": "name 'n' is not defined",
     "output_type": "error",
     "traceback": [
      "\u001b[1;31m---------------------------------------------------------------------------\u001b[0m",
      "\u001b[1;31mNameError\u001b[0m                                 Traceback (most recent call last)",
      "Cell \u001b[1;32mIn[20], line 1\u001b[0m\n\u001b[1;32m----> 1\u001b[0m a\u001b[38;5;241m=\u001b[39m\u001b[43mn\u001b[49m\u001b[38;5;241m.\u001b[39marray(\u001b[38;5;241m1\u001b[39m,\u001b[38;5;241m2\u001b[39m,\u001b[38;5;241m3\u001b[39m,\u001b[38;5;241m4\u001b[39m)\n",
      "\u001b[1;31mNameError\u001b[0m: name 'n' is not defined"
     ]
    }
   ],
   "source": [
    "a=n.array(1,2,3,4)"
   ]
  },
  {
   "cell_type": "code",
   "execution_count": 23,
   "id": "1189eb36",
   "metadata": {},
   "outputs": [],
   "source": [
    "import numpy as n"
   ]
  },
  {
   "cell_type": "code",
   "execution_count": 24,
   "id": "3651d9ec",
   "metadata": {},
   "outputs": [],
   "source": [
    "A=10"
   ]
  },
  {
   "cell_type": "code",
   "execution_count": 25,
   "id": "e82e1a88",
   "metadata": {},
   "outputs": [],
   "source": [
    "a=n.array([1,2,3])"
   ]
  },
  {
   "cell_type": "code",
   "execution_count": 26,
   "id": "64de3495",
   "metadata": {},
   "outputs": [],
   "source": [
    "lis=(1,2,3,4)"
   ]
  },
  {
   "cell_type": "code",
   "execution_count": 27,
   "id": "f7c20016",
   "metadata": {},
   "outputs": [
    {
     "data": {
      "text/plain": [
       "tuple"
      ]
     },
     "execution_count": 27,
     "metadata": {},
     "output_type": "execute_result"
    }
   ],
   "source": [
    "type(lis)"
   ]
  },
  {
   "cell_type": "code",
   "execution_count": 29,
   "id": "abf4a217",
   "metadata": {},
   "outputs": [],
   "source": [
    "c=range(10,100)"
   ]
  },
  {
   "cell_type": "code",
   "execution_count": 30,
   "id": "f67adf81",
   "metadata": {},
   "outputs": [
    {
     "data": {
      "text/plain": [
       "range(10, 100)"
      ]
     },
     "execution_count": 30,
     "metadata": {},
     "output_type": "execute_result"
    }
   ],
   "source": [
    "c"
   ]
  },
  {
   "cell_type": "code",
   "execution_count": 31,
   "id": "23eccd68",
   "metadata": {},
   "outputs": [
    {
     "name": "stdout",
     "output_type": "stream",
     "text": [
      "range(10, 100)\n"
     ]
    }
   ],
   "source": [
    "print(c)"
   ]
  },
  {
   "cell_type": "code",
   "execution_count": 32,
   "id": "5420d5c1",
   "metadata": {},
   "outputs": [
    {
     "data": {
      "text/plain": [
       "[10,\n",
       " 11,\n",
       " 12,\n",
       " 13,\n",
       " 14,\n",
       " 15,\n",
       " 16,\n",
       " 17,\n",
       " 18,\n",
       " 19,\n",
       " 20,\n",
       " 21,\n",
       " 22,\n",
       " 23,\n",
       " 24,\n",
       " 25,\n",
       " 26,\n",
       " 27,\n",
       " 28,\n",
       " 29,\n",
       " 30,\n",
       " 31,\n",
       " 32,\n",
       " 33,\n",
       " 34,\n",
       " 35,\n",
       " 36,\n",
       " 37,\n",
       " 38,\n",
       " 39,\n",
       " 40,\n",
       " 41,\n",
       " 42,\n",
       " 43,\n",
       " 44,\n",
       " 45,\n",
       " 46,\n",
       " 47,\n",
       " 48,\n",
       " 49,\n",
       " 50,\n",
       " 51,\n",
       " 52,\n",
       " 53,\n",
       " 54,\n",
       " 55,\n",
       " 56,\n",
       " 57,\n",
       " 58,\n",
       " 59,\n",
       " 60,\n",
       " 61,\n",
       " 62,\n",
       " 63,\n",
       " 64,\n",
       " 65,\n",
       " 66,\n",
       " 67,\n",
       " 68,\n",
       " 69,\n",
       " 70,\n",
       " 71,\n",
       " 72,\n",
       " 73,\n",
       " 74,\n",
       " 75,\n",
       " 76,\n",
       " 77,\n",
       " 78,\n",
       " 79,\n",
       " 80,\n",
       " 81,\n",
       " 82,\n",
       " 83,\n",
       " 84,\n",
       " 85,\n",
       " 86,\n",
       " 87,\n",
       " 88,\n",
       " 89,\n",
       " 90,\n",
       " 91,\n",
       " 92,\n",
       " 93,\n",
       " 94,\n",
       " 95,\n",
       " 96,\n",
       " 97,\n",
       " 98,\n",
       " 99]"
      ]
     },
     "execution_count": 32,
     "metadata": {},
     "output_type": "execute_result"
    }
   ],
   "source": [
    "list(range(10,100))"
   ]
  },
  {
   "cell_type": "code",
   "execution_count": 36,
   "id": "bc064a7d",
   "metadata": {},
   "outputs": [],
   "source": [
    "l1=[\"num\",10,5+2j]"
   ]
  },
  {
   "cell_type": "code",
   "execution_count": 37,
   "id": "82cbb851",
   "metadata": {},
   "outputs": [
    {
     "data": {
      "text/plain": [
       "['num', 10, (5+2j)]"
      ]
     },
     "execution_count": 37,
     "metadata": {},
     "output_type": "execute_result"
    }
   ],
   "source": [
    "l1"
   ]
  },
  {
   "cell_type": "code",
   "execution_count": 38,
   "id": "6d9f7a94",
   "metadata": {},
   "outputs": [],
   "source": [
    "l1.append(20)"
   ]
  },
  {
   "cell_type": "code",
   "execution_count": 39,
   "id": "f18d7440",
   "metadata": {},
   "outputs": [
    {
     "data": {
      "text/plain": [
       "['num', 10, (5+2j), 20]"
      ]
     },
     "execution_count": 39,
     "metadata": {},
     "output_type": "execute_result"
    }
   ],
   "source": [
    "l1"
   ]
  },
  {
   "cell_type": "code",
   "execution_count": 1,
   "id": "eb8899b5",
   "metadata": {},
   "outputs": [],
   "source": [
    "NAMES={1:'GOKUL',2:'MANO',3:'RITHISH',4:'KUMARAVEL'}"
   ]
  },
  {
   "cell_type": "code",
   "execution_count": 2,
   "id": "a2ec551d",
   "metadata": {},
   "outputs": [
    {
     "data": {
      "text/plain": [
       "dict"
      ]
     },
     "execution_count": 2,
     "metadata": {},
     "output_type": "execute_result"
    }
   ],
   "source": [
    "type(NAMES)"
   ]
  },
  {
   "cell_type": "code",
   "execution_count": 4,
   "id": "6dbb90c0",
   "metadata": {},
   "outputs": [
    {
     "data": {
      "text/plain": [
       "dict_values(['GOKUL', 'MANO', 'RITHISH', 'KUMARAVEL'])"
      ]
     },
     "execution_count": 4,
     "metadata": {},
     "output_type": "execute_result"
    }
   ],
   "source": [
    "NAMES.values() "
   ]
  },
  {
   "cell_type": "code",
   "execution_count": 5,
   "id": "6df026c0",
   "metadata": {},
   "outputs": [
    {
     "data": {
      "text/plain": [
       "dict_keys([1, 2, 3, 4])"
      ]
     },
     "execution_count": 5,
     "metadata": {},
     "output_type": "execute_result"
    }
   ],
   "source": [
    "NAMES.keys()"
   ]
  },
  {
   "cell_type": "code",
   "execution_count": 6,
   "id": "4266f213",
   "metadata": {},
   "outputs": [
    {
     "data": {
      "text/plain": [
       "'GOKUL'"
      ]
     },
     "execution_count": 6,
     "metadata": {},
     "output_type": "execute_result"
    }
   ],
   "source": [
    "NAMES[1]"
   ]
  },
  {
   "cell_type": "code",
   "execution_count": 7,
   "id": "1ac8f72e",
   "metadata": {},
   "outputs": [
    {
     "data": {
      "text/plain": [
       "'KUMARAVEL'"
      ]
     },
     "execution_count": 7,
     "metadata": {},
     "output_type": "execute_result"
    }
   ],
   "source": [
    "NAMES[4]"
   ]
  },
  {
   "cell_type": "code",
   "execution_count": 9,
   "id": "b3188131",
   "metadata": {},
   "outputs": [],
   "source": [
    "NAMES[1]=\"BOOBALAN\""
   ]
  },
  {
   "cell_type": "code",
   "execution_count": 10,
   "id": "41db4bf3",
   "metadata": {},
   "outputs": [
    {
     "data": {
      "text/plain": [
       "{1: 'BOOBALAN', 2: 'MANO', 3: 'RITHISH', 4: 'KUMARAVEL'}"
      ]
     },
     "execution_count": 10,
     "metadata": {},
     "output_type": "execute_result"
    }
   ],
   "source": [
    "NAMES"
   ]
  },
  {
   "cell_type": "code",
   "execution_count": 11,
   "id": "d66b5b29",
   "metadata": {},
   "outputs": [],
   "source": [
    "DETAIL={\"NAME\":\"KUMARAVEL\",\"AGE\":56,\"BG\":\"B+VE\"}"
   ]
  },
  {
   "cell_type": "code",
   "execution_count": 12,
   "id": "ae841498",
   "metadata": {},
   "outputs": [
    {
     "data": {
      "text/plain": [
       "{'NAME': 'KUMARAVEL', 'AGE': 56, 'BG': 'B+VE'}"
      ]
     },
     "execution_count": 12,
     "metadata": {},
     "output_type": "execute_result"
    }
   ],
   "source": [
    "DETAIL"
   ]
  },
  {
   "cell_type": "code",
   "execution_count": 14,
   "id": "f14983b9",
   "metadata": {},
   "outputs": [
    {
     "data": {
      "text/plain": [
       "'KUMARAVEL'"
      ]
     },
     "execution_count": 14,
     "metadata": {},
     "output_type": "execute_result"
    }
   ],
   "source": [
    "DETAIL[\"NAME\"]"
   ]
  },
  {
   "cell_type": "code",
   "execution_count": 15,
   "id": "d71dfddc",
   "metadata": {},
   "outputs": [
    {
     "data": {
      "text/plain": [
       "3"
      ]
     },
     "execution_count": 15,
     "metadata": {},
     "output_type": "execute_result"
    }
   ],
   "source": [
    "len(DETAIL)"
   ]
  },
  {
   "cell_type": "code",
   "execution_count": 17,
   "id": "cd9ea907",
   "metadata": {},
   "outputs": [
    {
     "data": {
      "text/plain": [
       "'KUMARAVEL'"
      ]
     },
     "execution_count": 17,
     "metadata": {},
     "output_type": "execute_result"
    }
   ],
   "source": [
    "DETAIL.pop('NAME')"
   ]
  },
  {
   "cell_type": "code",
   "execution_count": 1,
   "id": "03e97a0f",
   "metadata": {},
   "outputs": [],
   "source": [
    "DETAIL2={\"KUMARAVEL:56\",\"MANO:19\",\"RITHISH:19\"}"
   ]
  },
  {
   "cell_type": "code",
   "execution_count": 2,
   "id": "0e094283",
   "metadata": {},
   "outputs": [
    {
     "data": {
      "text/plain": [
       "set"
      ]
     },
     "execution_count": 2,
     "metadata": {},
     "output_type": "execute_result"
    }
   ],
   "source": [
    "type(DETAIL2)"
   ]
  },
  {
   "cell_type": "code",
   "execution_count": 3,
   "id": "e5545d52",
   "metadata": {},
   "outputs": [
    {
     "data": {
      "text/plain": [
       "{'KUMARAVEL:56', 'MANO:19', 'RITHISH:19'}"
      ]
     },
     "execution_count": 3,
     "metadata": {},
     "output_type": "execute_result"
    }
   ],
   "source": [
    "DETAIL2"
   ]
  },
  {
   "cell_type": "code",
   "execution_count": 4,
   "id": "e8b899c7",
   "metadata": {},
   "outputs": [],
   "source": [
    "DETAIL2.add(\"akash\")"
   ]
  },
  {
   "cell_type": "code",
   "execution_count": 6,
   "id": "c87e9e31",
   "metadata": {},
   "outputs": [
    {
     "data": {
      "text/plain": [
       "{'KUMARAVEL:56', 'MANO:19', 'RITHISH:19', 'akash'}"
      ]
     },
     "execution_count": 6,
     "metadata": {},
     "output_type": "execute_result"
    }
   ],
   "source": [
    "DETAIL2"
   ]
  },
  {
   "cell_type": "code",
   "execution_count": 8,
   "id": "8ebf52c4",
   "metadata": {},
   "outputs": [],
   "source": [
    "DETAIL2.update({\"HARI\",\"MANI\"})"
   ]
  },
  {
   "cell_type": "code",
   "execution_count": 9,
   "id": "bf86f3c5",
   "metadata": {},
   "outputs": [
    {
     "data": {
      "text/plain": [
       "{'HARI', 'KUMARAVEL:56', 'MANI', 'MANO:19', 'RITHISH:19', 'akash'}"
      ]
     },
     "execution_count": 9,
     "metadata": {},
     "output_type": "execute_result"
    }
   ],
   "source": [
    "DETAIL2"
   ]
  },
  {
   "cell_type": "code",
   "execution_count": 11,
   "id": "25d39fed",
   "metadata": {},
   "outputs": [],
   "source": [
    "DETAIL3=frozenset({\"mano\",\"kumaravel\"})"
   ]
  },
  {
   "cell_type": "code",
   "execution_count": 12,
   "id": "91bccf09",
   "metadata": {},
   "outputs": [
    {
     "data": {
      "text/plain": [
       "frozenset"
      ]
     },
     "execution_count": 12,
     "metadata": {},
     "output_type": "execute_result"
    }
   ],
   "source": [
    "type(DETAIL3)"
   ]
  },
  {
   "cell_type": "code",
   "execution_count": 1,
   "id": "ccd4b37a",
   "metadata": {},
   "outputs": [
    {
     "data": {
      "text/plain": [
       "True"
      ]
     },
     "execution_count": 1,
     "metadata": {},
     "output_type": "execute_result"
    }
   ],
   "source": [
    "a=40\n",
    "b=30\n",
    "a>b"
   ]
  },
  {
   "cell_type": "code",
   "execution_count": 3,
   "id": "aa81e3ed",
   "metadata": {},
   "outputs": [],
   "source": [
    "a=50\n",
    "b=0"
   ]
  },
  {
   "cell_type": "code",
   "execution_count": null,
   "id": "1da977b0",
   "metadata": {},
   "outputs": [],
   "source": []
  }
 ],
 "metadata": {
  "kernelspec": {
   "display_name": "Python 3 (ipykernel)",
   "language": "python",
   "name": "python3"
  },
  "language_info": {
   "codemirror_mode": {
    "name": "ipython",
    "version": 3
   },
   "file_extension": ".py",
   "mimetype": "text/x-python",
   "name": "python",
   "nbconvert_exporter": "python",
   "pygments_lexer": "ipython3",
   "version": "3.10.12"
  }
 },
 "nbformat": 4,
 "nbformat_minor": 5
}
