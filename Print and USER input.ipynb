{
 "cells": [
  {
   "cell_type": "code",
   "execution_count": 1,
   "id": "1ec52853",
   "metadata": {},
   "outputs": [],
   "source": [
    "a=10"
   ]
  },
  {
   "cell_type": "code",
   "execution_count": 2,
   "id": "46c282e8",
   "metadata": {},
   "outputs": [
    {
     "data": {
      "text/plain": [
       "10"
      ]
     },
     "execution_count": 2,
     "metadata": {},
     "output_type": "execute_result"
    }
   ],
   "source": [
    "a"
   ]
  },
  {
   "cell_type": "code",
   "execution_count": null,
   "id": "ef0f099e",
   "metadata": {},
   "outputs": [],
   "source": [
    "print(a)"
   ]
  },
  {
   "cell_type": "code",
   "execution_count": 15,
   "id": "30544309",
   "metadata": {},
   "outputs": [
    {
     "name": "stdout",
     "output_type": "stream",
     "text": [
      "the value of'a'is wasim\n"
     ]
    }
   ],
   "source": [
    "print(\"the value of'a'is\",format(a))"
   ]
  },
  {
   "cell_type": "code",
   "execution_count": 16,
   "id": "8b0e9307",
   "metadata": {},
   "outputs": [],
   "source": [
    "a=\"wasim\""
   ]
  },
  {
   "cell_type": "code",
   "execution_count": 6,
   "id": "536e626e",
   "metadata": {},
   "outputs": [
    {
     "data": {
      "text/plain": [
       "'wasim'"
      ]
     },
     "execution_count": 6,
     "metadata": {},
     "output_type": "execute_result"
    }
   ],
   "source": [
    "a"
   ]
  },
  {
   "cell_type": "code",
   "execution_count": 7,
   "id": "da18bac4",
   "metadata": {},
   "outputs": [
    {
     "name": "stdout",
     "output_type": "stream",
     "text": [
      "wasim\n"
     ]
    }
   ],
   "source": [
    "print(a)"
   ]
  },
  {
   "cell_type": "code",
   "execution_count": 8,
   "id": "aaa3c230",
   "metadata": {},
   "outputs": [
    {
     "name": "stdout",
     "output_type": "stream",
     "text": [
      "my name is wasim\n"
     ]
    }
   ],
   "source": [
    "print(\"my name is\",format(a))"
   ]
  },
  {
   "cell_type": "code",
   "execution_count": 9,
   "id": "0d015c8a",
   "metadata": {},
   "outputs": [
    {
     "name": "stdout",
     "output_type": "stream",
     "text": [
      "my name is(wasim).iam in PMIST\n"
     ]
    }
   ],
   "source": [
    "print(\"my name is(wasim).iam in PMIST\".format(name='wasim',collage='PMIST'))"
   ]
  },
  {
   "cell_type": "code",
   "execution_count": 17,
   "id": "a83d8f0b",
   "metadata": {},
   "outputs": [
    {
     "name": "stdout",
     "output_type": "stream",
     "text": [
      "my Name is PMIST.Iam in wasim\n"
     ]
    }
   ],
   "source": [
    "print(\"my Name is {}.Iam in {}\".format('PMIST',\"wasim\"))"
   ]
  },
  {
   "cell_type": "markdown",
   "id": "6ad78bf1",
   "metadata": {},
   "source": [
    "# F-PRINT"
   ]
  },
  {
   "cell_type": "code",
   "execution_count": 2,
   "id": "fa4ee4bc",
   "metadata": {},
   "outputs": [
    {
     "name": "stdout",
     "output_type": "stream",
     "text": [
      "my name is WASIM. I am SOFTWARE engineer\n"
     ]
    }
   ],
   "source": [
    "print(f\"my name is {'WASIM'}. I am {'SOFTWARE'} engineer\")"
   ]
  },
  {
   "cell_type": "markdown",
   "id": "11283169",
   "metadata": {},
   "source": [
    "# TASK"
   ]
  },
  {
   "cell_type": "markdown",
   "id": "8ee9f47f",
   "metadata": {},
   "source": [
    "# she sell\"sea\"shell in\"sea shore\""
   ]
  },
  {
   "cell_type": "markdown",
   "id": "2a8ca369",
   "metadata": {},
   "source": [
    "# USER INPUT"
   ]
  },
  {
   "cell_type": "code",
   "execution_count": 4,
   "id": "6001c763",
   "metadata": {},
   "outputs": [
    {
     "name": "stdout",
     "output_type": "stream",
     "text": [
      "8982\n"
     ]
    }
   ],
   "source": [
    "var=input()"
   ]
  },
  {
   "cell_type": "code",
   "execution_count": 5,
   "id": "a8437a5f",
   "metadata": {},
   "outputs": [
    {
     "data": {
      "text/plain": [
       "'8982'"
      ]
     },
     "execution_count": 5,
     "metadata": {},
     "output_type": "execute_result"
    }
   ],
   "source": [
    "var"
   ]
  },
  {
   "cell_type": "code",
   "execution_count": 6,
   "id": "992e477d",
   "metadata": {},
   "outputs": [
    {
     "name": "stdout",
     "output_type": "stream",
     "text": [
      "WASIM\n"
     ]
    }
   ],
   "source": [
    "var1=input()"
   ]
  },
  {
   "cell_type": "code",
   "execution_count": 8,
   "id": "e09e3d0d",
   "metadata": {},
   "outputs": [
    {
     "data": {
      "text/plain": [
       "'WASIM'"
      ]
     },
     "execution_count": 8,
     "metadata": {},
     "output_type": "execute_result"
    }
   ],
   "source": [
    "var1"
   ]
  },
  {
   "cell_type": "code",
   "execution_count": null,
   "id": "4ba5ff08",
   "metadata": {},
   "outputs": [],
   "source": []
  }
 ],
 "metadata": {
  "kernelspec": {
   "display_name": "Python 3 (ipykernel)",
   "language": "python",
   "name": "python3"
  },
  "language_info": {
   "codemirror_mode": {
    "name": "ipython",
    "version": 3
   },
   "file_extension": ".py",
   "mimetype": "text/x-python",
   "name": "python",
   "nbconvert_exporter": "python",
   "pygments_lexer": "ipython3",
   "version": "3.10.12"
  }
 },
 "nbformat": 4,
 "nbformat_minor": 5
}
